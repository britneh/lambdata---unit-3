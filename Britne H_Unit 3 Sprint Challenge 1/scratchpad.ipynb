{
 "cells": [
  {
   "cell_type": "code",
   "execution_count": 1,
   "metadata": {},
   "outputs": [],
   "source": [
    "from acme import Product\n",
    "import random"
   ]
  },
  {
   "cell_type": "code",
   "execution_count": 50,
   "metadata": {},
   "outputs": [
    {
     "output_type": "execute_result",
     "data": {
      "text/plain": "0.5"
     },
     "metadata": {},
     "execution_count": 50
    }
   ],
   "source": [
    "prod = Product('A Cool Toy')\n",
    "prod.weight\n",
    "prod.price\n",
    "prod.id\n",
    "prod.flame"
   ]
  },
  {
   "cell_type": "code",
   "execution_count": 10,
   "metadata": {},
   "outputs": [
    {
     "output_type": "stream",
     "name": "stdout",
     "text": "Kinda stealable.\n...boom!\n"
    }
   ],
   "source": [
    "prod.stealability()\n",
    "prod.explode()"
   ]
  },
  {
   "cell_type": "code",
   "execution_count": 5,
   "metadata": {},
   "outputs": [
    {
     "output_type": "stream",
     "name": "stdout",
     "text": "...it's a glove.\nHey that hurt!\n"
    }
   ],
   "source": [
    "from acme import BoxingGlove\n",
    "glove = BoxingGlove('Punchy the Third')\n",
    "glove.price\n",
    "glove.weight\n",
    "glove.explode()\n",
    "glove.punch()"
   ]
  },
  {
   "cell_type": "code",
   "execution_count": 47,
   "metadata": {},
   "outputs": [],
   "source": [
    "import random\n",
    "from random import randint, sample, uniform\n",
    "from acme import Product\n",
    "\n",
    "\n",
    "\n",
    "def generate_products(num):\n",
    "    products = []\n",
    "    for i in range(num):\n",
    "        first = ['Awesome ', 'Shiny ', 'Impressive ', 'Portable ', 'Improved ']\n",
    "        last = ['Anvil', 'Catapult', 'Disguise', 'Mousetrap', 'Balloon']\n",
    "        price = random.randint(5, 100)\n",
    "        weight = random.randint(5, 100)\n",
    "        name = ''.join(random.choices(first) + random.choices(last))\n",
    "        flame = random.uniform(0, 2.5)\n",
    "        product = Product(name, id, price, weight, flame)\n",
    "        products.append(product)\n",
    "    return products\n"
   ]
  },
  {
   "cell_type": "code",
   "execution_count": 131,
   "metadata": {},
   "outputs": [
    {
     "output_type": "execute_result",
     "data": {
      "text/plain": "\"ACME CORPORATION OFFICIAL INVENTORY REPORT Unique values:14, Average Price:93.0, Average Flammability: 2.3537423417477106, Average Weight:36.0, [['Shiny Anvil', 74, 6, 2.0231029063432087], ['Improved Disguise', 96, 12, 2.084661736603901], ['Shiny Balloon', 66, 86, 0.5096625277385669], ['Shiny Balloon', 35, 100, 0.8816124105814654], ['Impressive Anvil', 28, 92, 1.1391370730629569], ['Awesome Balloon', 51, 84, 1.3778676261831755], ['Improved Catapult', 28, 93, 2.3646930121712177], ['Improved Balloon', 94, 45, 0.9053987190579762], ['Improved Mousetrap', 28, 37, 1.8978206790706742], ['Shiny Mousetrap', 84, 24, 1.3122962777152485], ['Awesome Catapult', 90, 19, 0.07584436711543269], ['Awesome Balloon', 81, 81, 1.8901366464002605], ['Improved Catapult', 51, 69, 1.916262537295588], ['Portable Catapult', 95, 71, 0.42335039780497075], ['Impressive Disguise', 66, 78, 0.7947317386219819], ['Improved Mousetrap', 96, 22, 0.14022307169302056], ['Shiny Balloon', 53, 91, 2.181671003960568], ['Impressive Balloon', 55, 81, 0.8193190334141148], ['Awesome Catapult', 24, 46, 1.582913649162141], ['Improved Catapult', 62, 39, 1.1141577121176816], ['Improved Disguise', 8, 81, 0.56887226587999], ['Portable Anvil', 89, 24, 2.3470249329625332], ['Improved Balloon', 45, 15, 0.2598898603740138], ['Awesome Disguise', 62, 29, 0.8955195335935116], ['Shiny Anvil', 31, 95, 1.655510207678398], ['Portable Mousetrap', 64, 9, 1.5696486666712652], ['Impressive Disguise', 43, 43, 1.435242955438229], ['Impressive Disguise', 11, 45, 1.4010757326704748], ['Awesome Balloon', 41, 32, 0.22468141929177315], ['Improved Disguise', 36, 93, 2.3537423417477106]]\""
     },
     "metadata": {},
     "execution_count": 131
    }
   ],
   "source": [
    "import numpy\n",
    "from numpy import mean\n",
    "def inventory_report(products):\n",
    "    report = []\n",
    "    for i in range(30):\n",
    "        item = [products[i].name, products[i].weight, products[i].price, products[i].flame]\n",
    "        report.append(item)\n",
    "        flame2 = products[i].flame\n",
    "        weight2 = products[i].weight\n",
    "        price2 = products[i].price\n",
    "        name2 = len(set(products[i].name))\n",
    "    return  f\"ACME CORPORATION OFFICIAL INVENTORY REPORT Unique values:{name2}, Average Price:{ mean(price2)}, Average Flammability: {mean(flame2)}, Average Weight:{mean(weight2)}, {report}\"\n",
    "\n",
    "inventory_report(generate_products(30))\n"
   ]
  },
  {
   "cell_type": "code",
   "execution_count": null,
   "metadata": {},
   "outputs": [],
   "source": []
  },
  {
   "cell_type": "code",
   "execution_count": 137,
   "metadata": {},
   "outputs": [],
   "source": [
    "import unittest\n",
    "from acme import Product\n",
    "from acme_report import generate_products\n",
    "\n",
    "\n",
    "class AcmeProductTests(unittest.TestCase):\n",
    "    \"\"\"Making sure Acme products are the tops!\"\"\"\n",
    "\n",
    "    def test_default_product_price(self):\n",
    "        \"\"\"Test default product price being 10.\"\"\"\n",
    "        prod = Product('Test Product')\n",
    "        self.assertEqual(prod.price, 10)\n",
    "\n",
    "    def test_default_product_weight(self):\n",
    "        \"\"\"Test default product price being 10.\"\"\"\n",
    "        prod = Product('Test Product')\n",
    "        self.assertEqual(prod.weight, 20)\n",
    "    \n",
    "    def test_steal_values(self):\n",
    "        prod = Product('Test Product')\n",
    "        for \n",
    "        steal = prod().explode()\n",
    "        self.assertEqual(steal, )\n",
    "\n",
    "class AcmeReportTests(unittest.TestCase):\n",
    "    def test_default_num_products(self):\n",
    "        \"\"\"Tests that report gives length 30\"\"\"\n",
    "        gp = generate_products()\n",
    "        self.assertEqual(len(gp), 30)\n",
    "\n",
    "\n"
   ]
  }
 ],
 "metadata": {
  "language_info": {
   "codemirror_mode": {
    "name": "ipython",
    "version": 3
   },
   "file_extension": ".py",
   "mimetype": "text/x-python",
   "name": "python",
   "nbconvert_exporter": "python",
   "pygments_lexer": "ipython3",
   "version": "3.7.6-final"
  },
  "orig_nbformat": 2,
  "kernelspec": {
   "name": "python3",
   "display_name": "Python 3"
  }
 },
 "nbformat": 4,
 "nbformat_minor": 2
}